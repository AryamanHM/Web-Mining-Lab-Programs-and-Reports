{
  "nbformat": 4,
  "nbformat_minor": 0,
  "metadata": {
    "colab": {
      "name": "WebMining5.ipynb",
      "provenance": [],
      "collapsed_sections": []
    },
    "kernelspec": {
      "name": "python3",
      "display_name": "Python 3"
    },
    "language_info": {
      "name": "python"
    }
  },
  "cells": [
    {
      "cell_type": "code",
      "metadata": {
        "id": "CL6F-JnlFikz"
      },
      "source": [
        "import pandas as pd\n",
        "\n",
        "columns = ['sent', 'class']\n",
        "rows = []\n",
        "\n",
        "rows = [['TDP TDP TDP TDP Sidhu Sidhu Sidhu BJP BJP BJP BJP BJP Congress Congress Congress Congress Congress Congress ', 'Politics'], \n",
        "        ['Nifty Nifty Nifty Nifty Nifty BJP BJP Sensex Sensex Sensex Sensex Sensex Sensex Congress ', 'Business'],\n",
        "        ['Sidhu Sidhu Sidhu Sidhu Sidhu Sidhu BJP Sixer Sixer Sixer Sixer Congress Century Century ', 'Sports'],\n",
        "        ['TDP TDP TDP TDP Nifty BJP Sensex Congress Congress Congress Congress Congress Congress ', 'Politics'],\n",
        "        ['Sixer Sixer Sixer Sixer Sixer Century Century Century Century Century Century ', 'Sports'],\n",
        "        ['Nifty Nifty Nifty Nifty BJP BJP Sensex Sensex Sensex Sensex Sensex Sensex Century ', 'Business'],\n",
        "        ['TDP TDP TDP TDP TDP BJP BJP BJP Congress Congress Congress Congress Congress ', 'Politics']]\n",
        "\n"
      ],
      "execution_count": 3,
      "outputs": []
    },
    {
      "cell_type": "code",
      "metadata": {
        "colab": {
          "base_uri": "https://localhost:8080/",
          "height": 265
        },
        "id": "giPLaC76MKWZ",
        "outputId": "86626b93-9831-4622-d157-45d366ee54c1"
      },
      "source": [
        "training_data=pd.DataFrame(rows, columns=columns)\n",
        "training_data"
      ],
      "execution_count": 4,
      "outputs": [
        {
          "output_type": "execute_result",
          "data": {
            "text/html": [
              "<div>\n",
              "<style scoped>\n",
              "    .dataframe tbody tr th:only-of-type {\n",
              "        vertical-align: middle;\n",
              "    }\n",
              "\n",
              "    .dataframe tbody tr th {\n",
              "        vertical-align: top;\n",
              "    }\n",
              "\n",
              "    .dataframe thead th {\n",
              "        text-align: right;\n",
              "    }\n",
              "</style>\n",
              "<table border=\"1\" class=\"dataframe\">\n",
              "  <thead>\n",
              "    <tr style=\"text-align: right;\">\n",
              "      <th></th>\n",
              "      <th>sent</th>\n",
              "      <th>class</th>\n",
              "    </tr>\n",
              "  </thead>\n",
              "  <tbody>\n",
              "    <tr>\n",
              "      <th>0</th>\n",
              "      <td>TDP TDP TDP TDP Sidhu Sidhu Sidhu BJP BJP BJP ...</td>\n",
              "      <td>Politics</td>\n",
              "    </tr>\n",
              "    <tr>\n",
              "      <th>1</th>\n",
              "      <td>Nifty Nifty Nifty Nifty Nifty BJP BJP Sensex S...</td>\n",
              "      <td>Business</td>\n",
              "    </tr>\n",
              "    <tr>\n",
              "      <th>2</th>\n",
              "      <td>Sidhu Sidhu Sidhu Sidhu Sidhu Sidhu BJP Sixer ...</td>\n",
              "      <td>Sports</td>\n",
              "    </tr>\n",
              "    <tr>\n",
              "      <th>3</th>\n",
              "      <td>TDP TDP TDP TDP Nifty BJP Sensex Congress Cong...</td>\n",
              "      <td>Politics</td>\n",
              "    </tr>\n",
              "    <tr>\n",
              "      <th>4</th>\n",
              "      <td>Sixer Sixer Sixer Sixer Sixer Century Century ...</td>\n",
              "      <td>Sports</td>\n",
              "    </tr>\n",
              "    <tr>\n",
              "      <th>5</th>\n",
              "      <td>Nifty Nifty Nifty Nifty BJP BJP Sensex Sensex ...</td>\n",
              "      <td>Business</td>\n",
              "    </tr>\n",
              "    <tr>\n",
              "      <th>6</th>\n",
              "      <td>TDP TDP TDP TDP TDP BJP BJP BJP Congress Congr...</td>\n",
              "      <td>Politics</td>\n",
              "    </tr>\n",
              "  </tbody>\n",
              "</table>\n",
              "</div>"
            ],
            "text/plain": [
              "                                                sent     class\n",
              "0  TDP TDP TDP TDP Sidhu Sidhu Sidhu BJP BJP BJP ...  Politics\n",
              "1  Nifty Nifty Nifty Nifty Nifty BJP BJP Sensex S...  Business\n",
              "2  Sidhu Sidhu Sidhu Sidhu Sidhu Sidhu BJP Sixer ...    Sports\n",
              "3  TDP TDP TDP TDP Nifty BJP Sensex Congress Cong...  Politics\n",
              "4  Sixer Sixer Sixer Sixer Sixer Century Century ...    Sports\n",
              "5  Nifty Nifty Nifty Nifty BJP BJP Sensex Sensex ...  Business\n",
              "6  TDP TDP TDP TDP TDP BJP BJP BJP Congress Congr...  Politics"
            ]
          },
          "metadata": {},
          "execution_count": 4
        }
      ]
    },
    {
      "cell_type": "code",
      "metadata": {
        "id": "MVzQBo2KMLw3"
      },
      "source": [
        "from sklearn.feature_extraction.text import CountVectorizer\n",
        "\n",
        "pol_docs = [row['sent'] for index,row in training_data.iterrows() if row['class'] == 'Politics']\n",
        "bus_docs = [row['sent'] for index,row in training_data.iterrows() if row['class'] == 'Business']\n",
        "sports_docs = [row['sent'] for index,row in training_data.iterrows() if row['class'] == 'Sports']"
      ],
      "execution_count": 13,
      "outputs": []
    },
    {
      "cell_type": "code",
      "metadata": {
        "colab": {
          "base_uri": "https://localhost:8080/",
          "height": 142
        },
        "id": "6FdxYhqgMm87",
        "outputId": "219ee18c-26e5-4c6f-be3a-e00ecfd5556d"
      },
      "source": [
        "vec_p = CountVectorizer()\n",
        "X_p = vec_p.fit_transform(pol_docs)\n",
        "tdm_p = pd.DataFrame(X_p.toarray(), columns=vec_p.get_feature_names())\n",
        "\n",
        "tdm_p"
      ],
      "execution_count": 14,
      "outputs": [
        {
          "output_type": "execute_result",
          "data": {
            "text/html": [
              "<div>\n",
              "<style scoped>\n",
              "    .dataframe tbody tr th:only-of-type {\n",
              "        vertical-align: middle;\n",
              "    }\n",
              "\n",
              "    .dataframe tbody tr th {\n",
              "        vertical-align: top;\n",
              "    }\n",
              "\n",
              "    .dataframe thead th {\n",
              "        text-align: right;\n",
              "    }\n",
              "</style>\n",
              "<table border=\"1\" class=\"dataframe\">\n",
              "  <thead>\n",
              "    <tr style=\"text-align: right;\">\n",
              "      <th></th>\n",
              "      <th>bjp</th>\n",
              "      <th>congress</th>\n",
              "      <th>nifty</th>\n",
              "      <th>sensex</th>\n",
              "      <th>sidhu</th>\n",
              "      <th>tdp</th>\n",
              "    </tr>\n",
              "  </thead>\n",
              "  <tbody>\n",
              "    <tr>\n",
              "      <th>0</th>\n",
              "      <td>5</td>\n",
              "      <td>6</td>\n",
              "      <td>0</td>\n",
              "      <td>0</td>\n",
              "      <td>3</td>\n",
              "      <td>4</td>\n",
              "    </tr>\n",
              "    <tr>\n",
              "      <th>1</th>\n",
              "      <td>1</td>\n",
              "      <td>6</td>\n",
              "      <td>1</td>\n",
              "      <td>1</td>\n",
              "      <td>0</td>\n",
              "      <td>4</td>\n",
              "    </tr>\n",
              "    <tr>\n",
              "      <th>2</th>\n",
              "      <td>3</td>\n",
              "      <td>5</td>\n",
              "      <td>0</td>\n",
              "      <td>0</td>\n",
              "      <td>0</td>\n",
              "      <td>5</td>\n",
              "    </tr>\n",
              "  </tbody>\n",
              "</table>\n",
              "</div>"
            ],
            "text/plain": [
              "   bjp  congress  nifty  sensex  sidhu  tdp\n",
              "0    5         6      0       0      3    4\n",
              "1    1         6      1       1      0    4\n",
              "2    3         5      0       0      0    5"
            ]
          },
          "metadata": {},
          "execution_count": 14
        }
      ]
    },
    {
      "cell_type": "code",
      "metadata": {
        "colab": {
          "base_uri": "https://localhost:8080/",
          "height": 110
        },
        "id": "ZYAvFmRjNmzB",
        "outputId": "ef312832-d106-40e7-a39c-da38036e4362"
      },
      "source": [
        "vec_b = CountVectorizer()\n",
        "X_b = vec_b.fit_transform(bus_docs)\n",
        "tdm_b = pd.DataFrame(X_b.toarray(), columns=vec_b.get_feature_names())\n",
        "\n",
        "tdm_b"
      ],
      "execution_count": 15,
      "outputs": [
        {
          "output_type": "execute_result",
          "data": {
            "text/html": [
              "<div>\n",
              "<style scoped>\n",
              "    .dataframe tbody tr th:only-of-type {\n",
              "        vertical-align: middle;\n",
              "    }\n",
              "\n",
              "    .dataframe tbody tr th {\n",
              "        vertical-align: top;\n",
              "    }\n",
              "\n",
              "    .dataframe thead th {\n",
              "        text-align: right;\n",
              "    }\n",
              "</style>\n",
              "<table border=\"1\" class=\"dataframe\">\n",
              "  <thead>\n",
              "    <tr style=\"text-align: right;\">\n",
              "      <th></th>\n",
              "      <th>bjp</th>\n",
              "      <th>century</th>\n",
              "      <th>congress</th>\n",
              "      <th>nifty</th>\n",
              "      <th>sensex</th>\n",
              "    </tr>\n",
              "  </thead>\n",
              "  <tbody>\n",
              "    <tr>\n",
              "      <th>0</th>\n",
              "      <td>2</td>\n",
              "      <td>0</td>\n",
              "      <td>1</td>\n",
              "      <td>5</td>\n",
              "      <td>6</td>\n",
              "    </tr>\n",
              "    <tr>\n",
              "      <th>1</th>\n",
              "      <td>2</td>\n",
              "      <td>1</td>\n",
              "      <td>0</td>\n",
              "      <td>4</td>\n",
              "      <td>6</td>\n",
              "    </tr>\n",
              "  </tbody>\n",
              "</table>\n",
              "</div>"
            ],
            "text/plain": [
              "   bjp  century  congress  nifty  sensex\n",
              "0    2        0         1      5       6\n",
              "1    2        1         0      4       6"
            ]
          },
          "metadata": {},
          "execution_count": 15
        }
      ]
    },
    {
      "cell_type": "code",
      "metadata": {
        "colab": {
          "base_uri": "https://localhost:8080/",
          "height": 110
        },
        "id": "6fPMhFTYNnf2",
        "outputId": "50aa2007-8f35-4cd2-82c5-95b41bc18f0c"
      },
      "source": [
        "vec_s = CountVectorizer()\n",
        "X_s = vec_s.fit_transform(sports_docs)\n",
        "tdm_s = pd.DataFrame(X_s.toarray(), columns=vec_s.get_feature_names())\n",
        "\n",
        "tdm_s"
      ],
      "execution_count": 16,
      "outputs": [
        {
          "output_type": "execute_result",
          "data": {
            "text/html": [
              "<div>\n",
              "<style scoped>\n",
              "    .dataframe tbody tr th:only-of-type {\n",
              "        vertical-align: middle;\n",
              "    }\n",
              "\n",
              "    .dataframe tbody tr th {\n",
              "        vertical-align: top;\n",
              "    }\n",
              "\n",
              "    .dataframe thead th {\n",
              "        text-align: right;\n",
              "    }\n",
              "</style>\n",
              "<table border=\"1\" class=\"dataframe\">\n",
              "  <thead>\n",
              "    <tr style=\"text-align: right;\">\n",
              "      <th></th>\n",
              "      <th>bjp</th>\n",
              "      <th>century</th>\n",
              "      <th>congress</th>\n",
              "      <th>sidhu</th>\n",
              "      <th>sixer</th>\n",
              "    </tr>\n",
              "  </thead>\n",
              "  <tbody>\n",
              "    <tr>\n",
              "      <th>0</th>\n",
              "      <td>1</td>\n",
              "      <td>2</td>\n",
              "      <td>1</td>\n",
              "      <td>6</td>\n",
              "      <td>4</td>\n",
              "    </tr>\n",
              "    <tr>\n",
              "      <th>1</th>\n",
              "      <td>0</td>\n",
              "      <td>6</td>\n",
              "      <td>0</td>\n",
              "      <td>0</td>\n",
              "      <td>5</td>\n",
              "    </tr>\n",
              "  </tbody>\n",
              "</table>\n",
              "</div>"
            ],
            "text/plain": [
              "   bjp  century  congress  sidhu  sixer\n",
              "0    1        2         1      6      4\n",
              "1    0        6         0      0      5"
            ]
          },
          "metadata": {},
          "execution_count": 16
        }
      ]
    },
    {
      "cell_type": "code",
      "metadata": {
        "colab": {
          "base_uri": "https://localhost:8080/"
        },
        "id": "kQ5bvfMDO2YN",
        "outputId": "a1ed82b0-72bd-4d3b-b62d-5016888233ff"
      },
      "source": [
        "word_list_p = vec_p.get_feature_names();    \n",
        "count_list_p = X_p.toarray().sum(axis=0) \n",
        "freq_p = dict(zip(word_list_p,count_list_p))\n",
        "freq_p"
      ],
      "execution_count": 17,
      "outputs": [
        {
          "output_type": "execute_result",
          "data": {
            "text/plain": [
              "{'bjp': 9, 'congress': 17, 'nifty': 1, 'sensex': 1, 'sidhu': 3, 'tdp': 13}"
            ]
          },
          "metadata": {},
          "execution_count": 17
        }
      ]
    },
    {
      "cell_type": "code",
      "metadata": {
        "colab": {
          "base_uri": "https://localhost:8080/"
        },
        "id": "WJ0NjKy_O310",
        "outputId": "fd87f6e4-14a4-4b3d-a9d5-5f07f63871b8"
      },
      "source": [
        "word_list_b = vec_b.get_feature_names();    \n",
        "count_list_b = X_b.toarray().sum(axis=0) \n",
        "freq_b = dict(zip(word_list_b,count_list_b))\n",
        "freq_b"
      ],
      "execution_count": 19,
      "outputs": [
        {
          "output_type": "execute_result",
          "data": {
            "text/plain": [
              "{'bjp': 4, 'century': 1, 'congress': 1, 'nifty': 9, 'sensex': 12}"
            ]
          },
          "metadata": {},
          "execution_count": 19
        }
      ]
    },
    {
      "cell_type": "code",
      "metadata": {
        "colab": {
          "base_uri": "https://localhost:8080/"
        },
        "id": "3D7oExiYO3UH",
        "outputId": "7ba706f3-cce4-4507-ec7e-07b33571e736"
      },
      "source": [
        "word_list_s = vec_s.get_feature_names();    \n",
        "count_list_s = X_s.toarray().sum(axis=0) \n",
        "freq_s = dict(zip(word_list_s,count_list_s))\n",
        "freq_s"
      ],
      "execution_count": 20,
      "outputs": [
        {
          "output_type": "execute_result",
          "data": {
            "text/plain": [
              "{'bjp': 1, 'century': 8, 'congress': 1, 'sidhu': 6, 'sixer': 9}"
            ]
          },
          "metadata": {},
          "execution_count": 20
        }
      ]
    },
    {
      "cell_type": "code",
      "metadata": {
        "colab": {
          "base_uri": "https://localhost:8080/"
        },
        "id": "ptC-WrLZPKmL",
        "outputId": "3c59653d-ee1a-4a04-9265-b351de3c15f5"
      },
      "source": [
        "from sklearn.feature_extraction.text import CountVectorizer\n",
        "\n",
        "docs = [row['sent'] for index,row in training_data.iterrows()]\n",
        "\n",
        "vec = CountVectorizer()\n",
        "X = vec.fit_transform(docs)\n",
        "\n",
        "total_features = len(vec.get_feature_names())\n",
        "total_features"
      ],
      "execution_count": 21,
      "outputs": [
        {
          "output_type": "execute_result",
          "data": {
            "text/plain": [
              "8"
            ]
          },
          "metadata": {},
          "execution_count": 21
        }
      ]
    },
    {
      "cell_type": "code",
      "metadata": {
        "id": "AHKdmZo1Qtgz"
      },
      "source": [
        "total_cnts_features_p = count_list_p.sum(axis=0)\n",
        "total_cnts_features_b = count_list_b.sum(axis=0)\n",
        "total_cnts_features_s = count_list_s.sum(axis=0)"
      ],
      "execution_count": 24,
      "outputs": []
    },
    {
      "cell_type": "code",
      "metadata": {
        "colab": {
          "base_uri": "https://localhost:8080/"
        },
        "id": "ifVyiLSpRDXQ",
        "outputId": "f26b7ad1-632d-498e-dd14-04bb6897a7d6"
      },
      "source": [
        "import nltk\n",
        "nltk.download('punkt')\n",
        "from nltk.tokenize import word_tokenize\n",
        "\n",
        "new_sentence = 'Nifty Nifty Nifty BJP BJP Sensex Sensex Sensex Sensex Sensex Sensex Congress Congress Century'\n",
        "new_word_list = word_tokenize(new_sentence)"
      ],
      "execution_count": 28,
      "outputs": [
        {
          "output_type": "stream",
          "name": "stdout",
          "text": [
            "[nltk_data] Downloading package punkt to /root/nltk_data...\n",
            "[nltk_data]   Unzipping tokenizers/punkt.zip.\n"
          ]
        }
      ]
    },
    {
      "cell_type": "code",
      "metadata": {
        "colab": {
          "base_uri": "https://localhost:8080/"
        },
        "id": "tMX9qZ8FR0VH",
        "outputId": "b24af662-e1c6-4ef3-dfb8-e80507a8b65d"
      },
      "source": [
        "prob_s_with_ls = []\n",
        "p1=1\n",
        "for word in new_word_list:\n",
        "    if word in freq_s.keys():\n",
        "        count = freq_s[word]\n",
        "    else:\n",
        "        count = 0\n",
        "    prob_s_with_ls.append((count + 1)/(total_cnts_features_s + total_features))\n",
        "    p1=p1*((count + 1)/(total_cnts_features_s + total_features))\n",
        "dict(zip(new_word_list,prob_s_with_ls))\n",
        "p1"
      ],
      "execution_count": 34,
      "outputs": [
        {
          "output_type": "execute_result",
          "data": {
            "text/plain": [
              "5.505602363429078e-22"
            ]
          },
          "metadata": {},
          "execution_count": 34
        }
      ]
    },
    {
      "cell_type": "code",
      "metadata": {
        "colab": {
          "base_uri": "https://localhost:8080/"
        },
        "id": "CdFMPIZAR2-E",
        "outputId": "9670887f-1387-4832-fff4-2894e8c35deb"
      },
      "source": [
        "prob_p_with_ls = []\n",
        "p2=1\n",
        "for word in new_word_list:\n",
        "    if word in freq_p.keys():\n",
        "        count = freq_p[word]\n",
        "    else:\n",
        "        count = 0\n",
        "    prob_p_with_ls.append((count + 1)/(total_cnts_features_p + total_features))\n",
        "    p2=p2*((count + 1)/(total_cnts_features_p + total_features))\n",
        "dict(zip(new_word_list,prob_p_with_ls))\n",
        "p2"
      ],
      "execution_count": 36,
      "outputs": [
        {
          "output_type": "execute_result",
          "data": {
            "text/plain": [
              "9.46135175695248e-25"
            ]
          },
          "metadata": {},
          "execution_count": 36
        }
      ]
    },
    {
      "cell_type": "code",
      "metadata": {
        "colab": {
          "base_uri": "https://localhost:8080/"
        },
        "id": "BYeHq1XGSGnw",
        "outputId": "033f6235-67fc-482f-e81f-ab3f257f75eb"
      },
      "source": [
        "prob_b_with_ls = []\n",
        "p3=1\n",
        "for word in new_word_list:\n",
        "    if word in freq_b.keys():\n",
        "        count = freq_b[word]\n",
        "    else:\n",
        "        count = 0\n",
        "    prob_b_with_ls.append((count + 1)/(total_cnts_features_b + total_features))\n",
        "    p3=p3*((count + 1)/(total_cnts_features_b + total_features))\n",
        "dict(zip(new_word_list,prob_b_with_ls))\n",
        "p3"
      ],
      "execution_count": 38,
      "outputs": [
        {
          "output_type": "execute_result",
          "data": {
            "text/plain": [
              "2.415724362071022e-22"
            ]
          },
          "metadata": {},
          "execution_count": 38
        }
      ]
    },
    {
      "cell_type": "markdown",
      "metadata": {
        "id": "Q1zc3dI7WOF7"
      },
      "source": [
        "Business has least value;Document belongs to Business Category"
      ]
    },
    {
      "cell_type": "code",
      "metadata": {
        "id": "DD6XRPhTSNsf"
      },
      "source": [
        ""
      ],
      "execution_count": null,
      "outputs": []
    }
  ]
}